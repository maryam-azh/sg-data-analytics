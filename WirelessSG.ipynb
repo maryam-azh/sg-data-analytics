{
 "cells": [
  {
   "cell_type": "code",
   "execution_count": 58,
   "id": "1ba7e5d8-370c-4df0-9ea2-9faadbd4cd79",
   "metadata": {},
   "outputs": [
    {
     "name": "stdout",
     "output_type": "stream",
     "text": [
      "/opt/anaconda3/envs/ox/bin/python\n",
      "/opt/anaconda3/envs/ox/bin/python\n"
     ]
    }
   ],
   "source": [
    "!which python\n",
    "import sys\n",
    "print(sys.executable)"
   ]
  },
  {
   "cell_type": "code",
   "execution_count": 59,
   "id": "64877320-1858-46fc-88ce-bd569151e5aa",
   "metadata": {},
   "outputs": [],
   "source": [
    "import requests\n",
    "import pandas as pd\n",
    "import geopandas as gpd\n",
    "\n",
    "import json\n",
    "from io import StringIO\n",
    "import osmnx as ox\n",
    "import networkx as nx\n",
    "import numpy as np\n",
    "import time\n",
    "from IPython.display import display, HTML\n",
    "import matplotlib.pyplot as plt\n",
    "import seaborn as sns"
   ]
  },
  {
   "cell_type": "code",
   "execution_count": 60,
   "id": "f30f92e4-4b14-44c2-a680-ce9b5a64bcb1",
   "metadata": {},
   "outputs": [
    {
     "name": "stdout",
     "output_type": "stream",
     "text": [
      "<center><table><tr><th colspan='2' align='center'><em>Attributes</em></th></tr><tr bgcolor=\"#E3E3F3\"> <th>Y</th> <td>45530.46595</td> </tr><tr bgcolor=\"\"> <th>X</th> <td>28308.65184</td> </tr><tr bgcolor=\"#E3E3F3\"> <th>LOCATION_NAME</th> <td>1 Northpoint Drive</td> </tr><tr bgcolor=\"\"> <th>LOCATION_TYPE</th> <td>Community</td> </tr><tr bgcolor=\"#E3E3F3\"> <th>POSTAL_CODE</th> <td>768019</td> </tr><tr bgcolor=\"\"> <th>STREET_ADDRESS</th> <td>1 Northpoint Drive</td> </tr><tr bgcolor=\"#E3E3F3\"> <th>OPERATOR_NAME</th> <td>M1</td> </tr><tr bgcolor=\"\"> <th>INC_CRC</th> <td>BD725D1716D3959C</td> </tr><tr bgcolor=\"#E3E3F3\"> <th>FMEL_UPD_D</th> <td>20200318162531</td> </tr></table></center>\n",
      "(1800, 3)\n"
     ]
    }
   ],
   "source": [
    "from bs4 import BeautifulSoup\n",
    "\n",
    "csv_path = '/Users/mac/Downloads/WirelessHotSpotsGEOJSON.geojson'\n",
    "df = gpd.read_file(csv_path)\n",
    "\n",
    "print (df['Description'][1])\n",
    "print (df.shape)\n",
    "\n",
    "\n"
   ]
  },
  {
   "cell_type": "code",
   "execution_count": 61,
   "id": "1aed0cb5-8205-4577-ab2f-953afef99101",
   "metadata": {},
   "outputs": [
    {
     "name": "stdout",
     "output_type": "stream",
     "text": [
      "    Name                                        Description  \\\n",
      "0  kml_1  <center><table><tr><th colspan='2' align='cent...   \n",
      "1  kml_2  <center><table><tr><th colspan='2' align='cent...   \n",
      "2  kml_3  <center><table><tr><th colspan='2' align='cent...   \n",
      "3  kml_4  <center><table><tr><th colspan='2' align='cent...   \n",
      "4  kml_5  <center><table><tr><th colspan='2' align='cent...   \n",
      "\n",
      "                              geometry          LOCATION_NAME POSTAL_CODE  \\\n",
      "0  POINT Z (103.74751 1.35019 0.00000)         Bukit Batok CC      659959   \n",
      "1  POINT Z (103.83609 1.42804 0.00000)     1 Northpoint Drive      768019   \n",
      "2  POINT Z (103.85298 1.30020 0.00000)        155 Waterloo St      187962   \n",
      "3  POINT Z (103.84648 1.28633 0.00000)  20 Upper Pickering St      058284   \n",
      "4  POINT Z (103.88965 1.39923 0.00000)         7 Star Canteen      540338   \n",
      "\n",
      "  LOCATION_TYPE             STREET_ADDRESS OPERATOR_NAME  \n",
      "0     Community     21 Bukit Batok Central            M1  \n",
      "1     Community         1 Northpoint Drive            M1  \n",
      "2    Government        155 Waterloo Street            M1  \n",
      "3     Community  20 Upper Pickering Street            M1  \n",
      "4           F&B    338 Anchorvale Crescent            M1  \n"
     ]
    }
   ],
   "source": [
    "# Function to extract information from the \"Description\" field\n",
    "def parse_description(description):\n",
    "    soup = BeautifulSoup(description, \"html.parser\")\n",
    "    data = {\n",
    "        \"LOCATION_NAME\": None,\n",
    "        \"POSTAL_CODE\": None,\n",
    "        \"LOCATION_TYPE\": None,\n",
    "        \"STREET_ADDRESS\": None,\n",
    "        \"OPERATOR_NAME\": None\n",
    "    }\n",
    "    \n",
    "    for th in soup.find_all('th'):\n",
    "        if th.text in data:\n",
    "            data[th.text] = th.find_next_sibling('td').text\n",
    "    \n",
    "    return pd.Series(data)\n",
    "\n",
    "# Apply the function to the \"Description\" column and create new columns in the DataFrame\n",
    "df = df.join(df[\"Description\"].apply(parse_description))\n",
    "\n",
    "# Display the first few rows of the updated DataFrame to confirm the new columns\n",
    "print(df.head())\n",
    "\n",
    "\n",
    "# soup = BeautifulSoup(df['Description'][0], \"html.parser\")\n",
    "\n",
    "# # Extract the relevant data into a dictionary\n",
    "# data = {\n",
    "#     \"LOCATION_NAME\": None,\n",
    "#     \"POSTAL_CODE\": None,\n",
    "#     \"LOCATION_TYPE\": None,\n",
    "#     \"STREET_ADDRESS\": None,\n",
    "#     \"OPERATOR_NAME\": None\n",
    "# }\n",
    "# # Populate the dictionary with the corresponding values\n",
    "# for th in soup.find_all('th'):\n",
    "#     if th.text in data:\n",
    "#         data[th.text] = th.find_next_sibling('td').text\n",
    "# print (data)"
   ]
  },
  {
   "cell_type": "code",
   "execution_count": 62,
   "id": "3ee4e42f-e728-45a6-935f-d1de7a88aa35",
   "metadata": {},
   "outputs": [
    {
     "name": "stdout",
     "output_type": "stream",
     "text": [
      "    Name                                        Description  \\\n",
      "0  kml_1  <center><table><tr><th colspan='2' align='cent...   \n",
      "1  kml_2  <center><table><tr><th colspan='2' align='cent...   \n",
      "2  kml_3  <center><table><tr><th colspan='2' align='cent...   \n",
      "3  kml_4  <center><table><tr><th colspan='2' align='cent...   \n",
      "4  kml_5  <center><table><tr><th colspan='2' align='cent...   \n",
      "\n",
      "                              geometry          LOCATION_NAME POSTAL_CODE  \\\n",
      "0  POINT Z (103.74751 1.35019 0.00000)         Bukit Batok CC      659959   \n",
      "1  POINT Z (103.83609 1.42804 0.00000)     1 Northpoint Drive      768019   \n",
      "2  POINT Z (103.85298 1.30020 0.00000)        155 Waterloo St      187962   \n",
      "3  POINT Z (103.84648 1.28633 0.00000)  20 Upper Pickering St      058284   \n",
      "4  POINT Z (103.88965 1.39923 0.00000)         7 Star Canteen      540338   \n",
      "\n",
      "  LOCATION_TYPE             STREET_ADDRESS OPERATOR_NAME  \\\n",
      "0     Community     21 Bukit Batok Central            M1   \n",
      "1     Community         1 Northpoint Drive            M1   \n",
      "2    Government        155 Waterloo Street            M1   \n",
      "3     Community  20 Upper Pickering Street            M1   \n",
      "4           F&B    338 Anchorvale Crescent            M1   \n",
      "\n",
      "                                  point  \n",
      "0  {1.35019080604781, 103.747514398535}  \n",
      "1  {1.42803584532257, 103.836092102185}  \n",
      "2   {1.3001965525977, 103.852975339767}  \n",
      "3  {1.28632940482837, 103.846479315186}  \n",
      "4    {1.3992285612873, 103.88965392915}  \n"
     ]
    }
   ],
   "source": [
    "# Function to extract coordinates from the 'geometry' field\n",
    "def extract_coordinates(geometry):\n",
    "    if geometry.geom_type == 'Point':\n",
    "        x, y = geometry.x, geometry.y\n",
    "        \n",
    "    elif geometry.geom_type == 'MultiPoint':\n",
    "        # Handle MultiPoint by extracting the first point\n",
    "        x, y = geometry[0].x, geometry[0].y\n",
    "        \n",
    "    else:\n",
    "        x, y = None, None  # In case the geometry type is not Point or MultiPoint\n",
    "\n",
    "    point = {x,y}\n",
    "    return pd.Series({'point': point})\n",
    "\n",
    "# Apply the function to the 'geometry' column and create new columns in the DataFrame\n",
    "df[['point']] = df['geometry'].apply(extract_coordinates)\n",
    "\n",
    "# Display the first few rows of the updated DataFrame to confirm the new columns\n",
    "print(df.head())"
   ]
  },
  {
   "cell_type": "code",
   "execution_count": 63,
   "id": "3e8bbf56-0c1a-48bc-8d6d-22e47aed333c",
   "metadata": {},
   "outputs": [
    {
     "name": "stdout",
     "output_type": "stream",
     "text": [
      "    name          location_name postal_code location_type  \\\n",
      "0  kml_1         Bukit Batok CC      659959     Community   \n",
      "1  kml_2     1 Northpoint Drive      768019     Community   \n",
      "2  kml_3        155 Waterloo St      187962    Government   \n",
      "3  kml_4  20 Upper Pickering St      058284     Community   \n",
      "4  kml_5         7 Star Canteen      540338           F&B   \n",
      "\n",
      "              street_address operator_name  \\\n",
      "0     21 Bukit Batok Central            M1   \n",
      "1         1 Northpoint Drive            M1   \n",
      "2        155 Waterloo Street            M1   \n",
      "3  20 Upper Pickering Street            M1   \n",
      "4    338 Anchorvale Crescent            M1   \n",
      "\n",
      "                                  point  \n",
      "0  {1.35019080604781, 103.747514398535}  \n",
      "1  {1.42803584532257, 103.836092102185}  \n",
      "2   {1.3001965525977, 103.852975339767}  \n",
      "3  {1.28632940482837, 103.846479315186}  \n",
      "4    {1.3992285612873, 103.88965392915}  \n",
      "\n",
      "\n",
      "TASK1: Some useful information extracted from the Description of the geojson data includes:LOCATION_NAME, POSTAL_CODE, LOCATION_TYPE, STREET_ADDRESS, OPERATOR_NAME\n"
     ]
    }
   ],
   "source": [
    "# print (df.columns)\n",
    "# Remove the specified columns: 'Description', 'geometry', and 'z-coord'\n",
    "df_clean = df.drop(columns=['Description', 'geometry'])\n",
    "\n",
    "# Convert all column headers to lowercase\n",
    "df_clean.columns = df_clean.columns.str.lower()\n",
    "\n",
    "# Display the first few rows of the DataFrame to confirm the change\n",
    "print(df_clean.head())\n",
    "\n",
    "print (\"\\n\\nTASK1: Some useful information extracted from the Description of the geojson data includes:\" \n",
    "\"LOCATION_NAME, POSTAL_CODE, LOCATION_TYPE, STREET_ADDRESS, OPERATOR_NAME\")"
   ]
  },
  {
   "cell_type": "code",
   "execution_count": 64,
   "id": "2ac11fd7-ecaa-4b71-acb9-b72f307f2858",
   "metadata": {},
   "outputs": [
    {
     "name": "stdout",
     "output_type": "stream",
     "text": [
      "['Public Worship', 'Dormitory / Care Centre', 'Tourist Attraction']\n",
      "location_type\n",
      "Community               557\n",
      "F&B                     428\n",
      "Healthcare              415\n",
      "Commercial              125\n",
      "Welfare Organisation    123\n",
      "Public Transport         46\n",
      "Government               25\n",
      "School                   24\n",
      "Retail Shop              23\n",
      "others                   18\n",
      "Shopping Mall            16\n",
      "Name: count, dtype: int64\n",
      "11\n"
     ]
    }
   ],
   "source": [
    "\n",
    "\n",
    "\n",
    "\n",
    "#get the three rarest location types and call them others\n",
    "# Count the occurrences of each location type\n",
    "location_type_counts = df_clean['location_type'].value_counts()\n",
    "\n",
    "# Identify the three rarest location types\n",
    "rarest_location_types = location_type_counts.nsmallest(3).index.tolist()\n",
    "print (rarest_location_types)\n",
    "\n",
    "# Replace these rare location types with 'others'\n",
    "df_clean['location_type'] = df_clean['location_type'].apply(lambda x: 'others' if x in rarest_location_types else x)\n",
    "\n",
    "# Display the updated value counts to confirm the changes\n",
    "updated_location_type_counts = df_clean['location_type'].value_counts()\n",
    "print(updated_location_type_counts)\n",
    "print(len(updated_location_type_counts))\n"
   ]
  },
  {
   "cell_type": "code",
   "execution_count": 94,
   "id": "ce2a3553-ca60-4e0b-949d-158435dcbbce",
   "metadata": {},
   "outputs": [
    {
     "name": "stdout",
     "output_type": "stream",
     "text": [
      "location_type\n",
      "Community               557\n",
      "F&B                     428\n",
      "Healthcare              415\n",
      "Commercial              125\n",
      "Welfare Organisation    123\n",
      "Public Transport         92\n",
      "Government               71\n",
      "School                   70\n",
      "Retail Shop              69\n",
      "others                   64\n",
      "Shopping Mall            62\n",
      "Name: count, dtype: int64\n"
     ]
    }
   ],
   "source": [
    "from imblearn.over_sampling import RandomOverSampler\n",
    "import pandas as pd\n",
    "\n",
    "# Assuming df_clean is your cleaned DataFrame with 'location_type_encoded'\n",
    "\n",
    "# Define the labels to oversample\n",
    "labels_to_oversample = [\n",
    "    \"Public Transport\", \"Government\", \"School\", \"Retail Shop\", \"others\", \"Shopping Mall\"\n",
    "]\n",
    "\n",
    "# Filter the dataframe to include only these labels\n",
    "df_to_oversample = df_clean[df_clean['location_type'].isin(labels_to_oversample)]\n",
    "\n",
    "# Separate the features and target variable\n",
    "X = df_to_oversample.drop(columns=['location_type_encoded'])\n",
    "y = df_to_oversample['location_type_encoded']\n",
    "\n",
    "# Initialize the RandomOverSampler\n",
    "ros = RandomOverSampler(random_state=42)\n",
    "\n",
    "# Apply oversampling\n",
    "X_resampled, y_resampled = ros.fit_resample(X, y)\n",
    "\n",
    "# Create a new DataFrame with the oversampled data\n",
    "df_oversampled = X_resampled.copy()\n",
    "df_oversampled['location_type_encoded'] = y_resampled\n",
    "\n",
    "# Combine the original dataframe with the oversampled data\n",
    "df_combined = pd.concat([df_clean, df_oversampled], ignore_index=True)\n",
    "\n",
    "# Shuffle the combined dataframe\n",
    "df_combined = df_combined.sample(frac=1, random_state=42).reset_index(drop=True)\n",
    "\n",
    "# Display the updated value counts to confirm the changes\n",
    "updated_location_type_counts = df_combined['location_type'].value_counts()\n",
    "# print(updated_location_type_counts)\n"
   ]
  },
  {
   "cell_type": "code",
   "execution_count": 97,
   "id": "9b572482-0bc3-4b5e-9f6e-b4557fb69459",
   "metadata": {},
   "outputs": [
    {
     "name": "stdout",
     "output_type": "stream",
     "text": [
      "len(label_encoder.classes_):  11\n",
      "len(correct_labels):  11\n",
      "Accuracy: 0.9650\n"
     ]
    }
   ],
   "source": [
    "from sklearn.feature_extraction.text import CountVectorizer\n",
    "from sklearn.preprocessing import LabelEncoder\n",
    "from sklearn.model_selection import train_test_split\n",
    "from sklearn.multiclass import OneVsRestClassifier\n",
    "from sklearn.linear_model import LogisticRegression\n",
    "from sklearn.metrics import accuracy_score, classification_report\n",
    "\n",
    "# Making sure that no classes are missing from the test data\n",
    "\n",
    "# Step 1: Preprocess the data\n",
    "# Encode the labels (location_type)\n",
    "label_encoder = LabelEncoder()\n",
    "df_combined['location_type_encoded'] = label_encoder.fit_transform(df_combined['location_type'])\n",
    "# print (df_clean['location_type'].value_counts())\n",
    "\n",
    "\n",
    "# Step 2: Verify the encoded labels\n",
    "\n",
    "# Step 3: Define the correct target names\n",
    "correct_labels = [\n",
    "    \"Community\", \"F&B\", \"Healthcare\", \"Commercial\", \"Welfare Organisation\",\n",
    "    \"Public Transport\", \"Government\", \"School\", \"Retail Shop\", \"others\", \"Shopping Mall\"\n",
    "]\n",
    "\n",
    "\n",
    "\n",
    "#  Build the model \n",
    "\n",
    "# Step 1: Vectorize the location names using CountVectorizer\n",
    "vectorizer = CountVectorizer()\n",
    "X = vectorizer.fit_transform(df_combined['location_name'])\n",
    "\n",
    "# Step 2: Define y\n",
    "y = df_combined['location_type_encoded']\n",
    "\n",
    "# Step 3: Split the dataset into training and testing sets\n",
    "X_train, X_test, y_train, y_test = train_test_split(X, y, test_size=200, random_state=4, shuffle=False)\n",
    "\n",
    "# Step 4: Define the base classifier and wrap it with OneVsRestClassifier\n",
    "base_classifier = LogisticRegression()\n",
    "model = OneVsRestClassifier(base_classifier)\n",
    "\n",
    "# Step 5: Train the model\n",
    "model.fit(X_train, y_train)\n",
    "\n",
    "# Step 6: Evaluate the model\n",
    "y_pred = model.predict(X_test)\n",
    "\n",
    "# Calculate accuracy\n",
    "accuracy = accuracy_score(y_test, y_pred)\n",
    "print(f'Accuracy: {accuracy:.4f}')\n",
    "\n",
    "\n"
   ]
  },
  {
   "cell_type": "code",
   "execution_count": 98,
   "id": "25a96651-0c45-49f3-b2b4-41be48786806",
   "metadata": {},
   "outputs": [
    {
     "name": "stdout",
     "output_type": "stream",
     "text": [
      "len(label_encoder.classes_): 11\n",
      "len(correct_labels): 11\n",
      "len(valid_labels): 11\n",
      "Classification Report:\n",
      "                       precision    recall  f1-score   support\n",
      "\n",
      "           Community       0.78      0.70      0.74        10\n",
      "                 F&B       0.98      1.00      0.99        50\n",
      "          Healthcare       0.95      0.95      0.95        40\n",
      "          Commercial       0.90      1.00      0.95         9\n",
      "Welfare Organisation       1.00      1.00      1.00        45\n",
      "    Public Transport       1.00      1.00      1.00        10\n",
      "          Government       1.00      1.00      1.00         6\n",
      "              School       1.00      0.91      0.95        11\n",
      "         Retail Shop       1.00      1.00      1.00         5\n",
      "              others       1.00      0.90      0.95        10\n",
      "       Shopping Mall       0.80      1.00      0.89         4\n",
      "\n",
      "            accuracy                           0.96       200\n",
      "           macro avg       0.95      0.95      0.95       200\n",
      "        weighted avg       0.97      0.96      0.96       200\n",
      "\n"
     ]
    }
   ],
   "source": [
    "# Original correct labels\n",
    "correct_labels = [\n",
    "    \"Community\", \"F&B\", \"Healthcare\", \"Commercial\", \"Welfare Organisation\",\n",
    "    \"Public Transport\", \"Government\", \"School\", \"Retail Shop\", \"others\", \"Shopping Mall\"\n",
    "]\n",
    "\n",
    "# Generate target names based on unique labels in y_test and y_pred\n",
    "# Find the intersection of labels in y_test and y_pred with correct_labels\n",
    "valid_labels = [correct_labels[label] for label in np.unique(y_test) if label in np.unique(y_pred)]\n",
    "\n",
    "# Print details for debugging\n",
    "print(f\"len(label_encoder.classes_): {len(label_encoder.classes_)}\")\n",
    "print(f\"len(correct_labels): {len(correct_labels)}\")\n",
    "print(f\"len(valid_labels): {len(valid_labels)}\")\n",
    "\n",
    "# Generate the classification report with only the valid labels\n",
    "report = classification_report(y_test, y_pred, target_names=valid_labels)\n",
    "print('Classification Report:\\n', report)"
   ]
  },
  {
   "cell_type": "code",
   "execution_count": 99,
   "id": "5ad2b32d-ef90-4760-88ed-49c40cba5a86",
   "metadata": {},
   "outputs": [
    {
     "data": {
      "image/png": "[encoded data removed]",
      "text/plain": [
       "<Figure size 1000x700 with 2 Axes>"
      ]
     },
     "metadata": {},
     "output_type": "display_data"
    }
   ],
   "source": [
    "import numpy as np\n",
    "import seaborn as sns\n",
    "import matplotlib.pyplot as plt\n",
    "from sklearn.metrics import confusion_matrix\n",
    "\n",
    "# Assuming y_test contains the true labels and y_pred contains the predicted labels\n",
    "\n",
    "# Step 1: Generate the confusion matrix\n",
    "conf_matrix = confusion_matrix(y_test, y_pred)\n",
    "\n",
    "# Step 2: Plot the heatmap\n",
    "plt.figure(figsize=(10, 7))\n",
    "sns.heatmap(conf_matrix, annot=True, fmt='d', cmap='Blues', xticklabels=label_encoder.classes_, yticklabels=label_encoder.classes_)\n",
    "plt.xlabel('Predicted Label')\n",
    "plt.ylabel('True Label')\n",
    "plt.title('Confusion Matrix Heatmap')\n",
    "plt.show()\n"
   ]
  }
 ],
 "metadata": {
  "kernelspec": {
   "display_name": "Python (ox)",
   "language": "python",
   "name": "ox"
  },
  "language_info": {
   "codemirror_mode": {
    "name": "ipython",
    "version": 3
   },
   "file_extension": ".py",
   "mimetype": "text/x-python",
   "name": "python",
   "nbconvert_exporter": "python",
   "pygments_lexer": "ipython3",
   "version": "3.12.5"
  }
 },
 "nbformat": 4,
 "nbformat_minor": 5
}
